{
 "cells": [
  {
   "cell_type": "code",
   "execution_count": null,
   "metadata": {},
   "outputs": [],
   "source": [
    "#参考：https://irukanobox.blogspot.com/2021/11/python.html"
   ]
  },
  {
   "cell_type": "code",
   "execution_count": null,
   "metadata": {},
   "outputs": [],
   "source": [
    "!pip3 install wbgapi"
   ]
  },
  {
   "cell_type": "code",
   "execution_count": null,
   "metadata": {},
   "outputs": [],
   "source": []
  },
  {
   "cell_type": "code",
   "execution_count": 1,
   "metadata": {},
   "outputs": [],
   "source": [
    "#from Country_population.models import Population\n",
    "import matplotlib\n",
    "#バックエンド指定\n",
    "#matplotlib.use('Agg')\n",
    "import matplotlib\n",
    "import matplotlib.pyplot as plt\n",
    "import io\n",
    "from django.http import HttpResponse"
   ]
  },
  {
   "cell_type": "code",
   "execution_count": null,
   "metadata": {},
   "outputs": [],
   "source": []
  },
  {
   "cell_type": "code",
   "execution_count": null,
   "metadata": {},
   "outputs": [],
   "source": []
  },
  {
   "cell_type": "code",
   "execution_count": 3,
   "metadata": {},
   "outputs": [
    {
     "name": "stderr",
     "output_type": "stream",
     "text": [
      "/opt/anaconda3/lib/python3.8/site-packages/wbgapi/data.py:327: FutureWarning: The default dtype for empty Series will be 'object' instead of 'float64' in a future version. Specify a dtype explicitly to silence this warning.\n",
      "  dummy = pd.Series()    # empty series - never assigned actual values\n"
     ]
    },
    {
     "data": {
      "text/plain": [
       "<AxesSubplot:>"
      ]
     },
     "execution_count": 3,
     "metadata": {},
     "output_type": "execute_result"
    },
    {
     "data": {
      "image/png": "[encoded data removed]",
      "text/plain": [
       "<Figure size 432x288 with 1 Axes>"
      ]
     },
     "metadata": {
      "needs_background": "light"
     },
     "output_type": "display_data"
    }
   ],
   "source": [
    "import wbgapi as wb\n",
    "df_pop = wb.data.DataFrame(['SP.POP.TOTL'], 'JPN', mrv=50).T\n",
    "df_pop.plot()"
   ]
  },
  {
   "cell_type": "code",
   "execution_count": 5,
   "metadata": {},
   "outputs": [
    {
     "data": {
      "text/html": [
       "<div>\n",
       "<style scoped>\n",
       "    .dataframe tbody tr th:only-of-type {\n",
       "        vertical-align: middle;\n",
       "    }\n",
       "\n",
       "    .dataframe tbody tr th {\n",
       "        vertical-align: top;\n",
       "    }\n",
       "\n",
       "    .dataframe thead th {\n",
       "        text-align: right;\n",
       "    }\n",
       "</style>\n",
       "<table border=\"1\" class=\"dataframe\">\n",
       "  <thead>\n",
       "    <tr style=\"text-align: right;\">\n",
       "      <th>economy</th>\n",
       "      <th>JPN</th>\n",
       "    </tr>\n",
       "  </thead>\n",
       "  <tbody>\n",
       "    <tr>\n",
       "      <th>YR1971</th>\n",
       "      <td>105697000.0</td>\n",
       "    </tr>\n",
       "    <tr>\n",
       "      <th>YR1972</th>\n",
       "      <td>107188000.0</td>\n",
       "    </tr>\n",
       "    <tr>\n",
       "      <th>YR1973</th>\n",
       "      <td>108707000.0</td>\n",
       "    </tr>\n",
       "    <tr>\n",
       "      <th>YR1974</th>\n",
       "      <td>110162000.0</td>\n",
       "    </tr>\n",
       "    <tr>\n",
       "      <th>YR1975</th>\n",
       "      <td>111573000.0</td>\n",
       "    </tr>\n",
       "  </tbody>\n",
       "</table>\n",
       "</div>"
      ],
      "text/plain": [
       "economy          JPN\n",
       "YR1971   105697000.0\n",
       "YR1972   107188000.0\n",
       "YR1973   108707000.0\n",
       "YR1974   110162000.0\n",
       "YR1975   111573000.0"
      ]
     },
     "execution_count": 5,
     "metadata": {},
     "output_type": "execute_result"
    }
   ],
   "source": [
    "df_pop.head()"
   ]
  },
  {
   "cell_type": "code",
   "execution_count": 21,
   "metadata": {},
   "outputs": [],
   "source": [
    "year_list = df_pop.index.tolist()\n",
    "year_list = [x[2:] for x in year_list]"
   ]
  },
  {
   "cell_type": "code",
   "execution_count": 22,
   "metadata": {},
   "outputs": [],
   "source": [
    "pop_list = df_pop['JPN'].tolist()"
   ]
  },
  {
   "cell_type": "code",
   "execution_count": 35,
   "metadata": {},
   "outputs": [],
   "source": [
    "import japanize_matplotlib\n",
    "import numpy as np"
   ]
  },
  {
   "cell_type": "code",
   "execution_count": 40,
   "metadata": {},
   "outputs": [
    {
     "data": {
      "text/plain": [
       "Text(0, 0.5, '人口')"
      ]
     },
     "execution_count": 40,
     "metadata": {},
     "output_type": "execute_result"
    },
    {
     "data": {
      "image/png": "[encoded data removed]",
      "text/plain": [
       "<Figure size 432x288 with 1 Axes>"
      ]
     },
     "metadata": {
      "needs_background": "light"
     },
     "output_type": "display_data"
    }
   ],
   "source": [
    "x = year_list\n",
    "y = pop_list \n",
    "plt.bar(x, y, color='#00d5ff')\n",
    "plt.title(r\"人口推移\", color='#000000')\n",
    "plt.xticks(np.arange(0, 50, 5))\n",
    "plt.xlabel(\"年\")\n",
    "plt.ylabel(\"人口\")"
   ]
  },
  {
   "cell_type": "code",
   "execution_count": null,
   "metadata": {},
   "outputs": [],
   "source": []
  },
  {
   "cell_type": "code",
   "execution_count": 42,
   "metadata": {},
   "outputs": [],
   "source": [
    "def plot_pop_creat():\n",
    "    #ここを関数化したい\n",
    "    x = year_list\n",
    "    y = pop_list \n",
    "    plt.bar(x, y, color='#00d5ff')\n",
    "    plt.title(r\"人口推移\", color='#000000')\n",
    "    plt.xticks(np.arange(0, 50, 5))\n",
    "    plt.xlabel(\"年\")\n",
    "    plt.ylabel(\"人口\")\n",
    "    return plt"
   ]
  },
  {
   "cell_type": "code",
   "execution_count": 43,
   "metadata": {},
   "outputs": [],
   "source": [
    "#SVG化\n",
    "def plot_con_svg(plt):\n",
    "    buf = io.BytesIO()\n",
    "    plt.savefig(buf, format='svg', bbox_inches='tight')\n",
    "    s = buf.getvalue()\n",
    "    buf.close()\n",
    "    return s"
   ]
  },
  {
   "cell_type": "code",
   "execution_count": 44,
   "metadata": {},
   "outputs": [],
   "source": [
    "# 実行するビュー関数\n",
    "def get_svg(request):\n",
    "    plt = setPlt()  \n",
    "    svg = plt2svg(plt)  #SVG化\n",
    "    plt.cla()  # グラフをリセット\n",
    "    response = HttpResponse(svg, content_type='image/svg+xml')\n",
    "    return response"
   ]
  },
  {
   "cell_type": "code",
   "execution_count": null,
   "metadata": {},
   "outputs": [],
   "source": []
  },
  {
   "cell_type": "code",
   "execution_count": null,
   "metadata": {},
   "outputs": [],
   "source": []
  },
  {
   "cell_type": "code",
   "execution_count": null,
   "metadata": {},
   "outputs": [],
   "source": []
  },
  {
   "cell_type": "code",
   "execution_count": 36,
   "metadata": {},
   "outputs": [
    {
     "data": {
      "text/plain": [
       "array([ 0,  5, 10, 15, 20, 25, 30, 35, 40, 45])"
      ]
     },
     "execution_count": 36,
     "metadata": {},
     "output_type": "execute_result"
    }
   ],
   "source": [
    "np.arange(0, 50, 5)"
   ]
  },
  {
   "cell_type": "code",
   "execution_count": null,
   "metadata": {},
   "outputs": [],
   "source": [
    "#グラフ作成\n",
    "def setPlt():\n",
    "    x = [\"07/01\", \"07/02\", \"07/03\", \"07/04\", \"07/05\", \"07/06\", \"07/07\"]\n",
    "    y = [3, 5, 0, 5, 6, 10, 2]\n",
    "    plt.bar(x, y, color='#00d5ff')\n",
    "    plt.title(r\"$\\bf{Running Trend  -2020/07/07}$\", color='#3407ba')\n",
    "    plt.xlabel(\"Date\")\n",
    "    plt.ylabel(\"km\")\n",
    "    "
   ]
  },
  {
   "cell_type": "code",
   "execution_count": 2,
   "metadata": {},
   "outputs": [
    {
     "data": {
      "image/png": "[encoded data removed]",
      "text/plain": [
       "<Figure size 432x288 with 1 Axes>"
      ]
     },
     "metadata": {
      "needs_background": "light"
     },
     "output_type": "display_data"
    }
   ],
   "source": [
    "x = [\"07/01\", \"07/02\", \"07/03\", \"07/04\", \"07/05\", \"07/06\", \"07/07\"]\n",
    "y = [3, 5, 0, 5, 6, 10, 2]\n",
    "plt.bar(x, y, color='#00d5ff')\n",
    "plt.show()"
   ]
  },
  {
   "cell_type": "code",
   "execution_count": null,
   "metadata": {},
   "outputs": [],
   "source": [
    "# SVG化\n",
    "def plt2svg():\n",
    "    buf = io.BytesIO()\n",
    "    plt.savefig(buf, format='svg', bbox_inches='tight')\n",
    "    s = buf.getvalue()\n",
    "    buf.close()\n",
    "    return s"
   ]
  },
  {
   "cell_type": "code",
   "execution_count": null,
   "metadata": {},
   "outputs": [],
   "source": [
    "setPlt() "
   ]
  },
  {
   "cell_type": "code",
   "execution_count": null,
   "metadata": {},
   "outputs": [],
   "source": [
    "# 実行するビュー関数\n",
    "def get_svg(request):\n",
    "    setPlt()  \n",
    "    svg = plt2svg()  #SVG化\n",
    "    plt.cla()  # グラフをリセット\n",
    "    response = HttpResponse(svg, content_type='image/svg+xml')\n",
    "    return response"
   ]
  },
  {
   "cell_type": "code",
   "execution_count": null,
   "metadata": {},
   "outputs": [],
   "source": []
  },
  {
   "cell_type": "code",
   "execution_count": null,
   "metadata": {},
   "outputs": [],
   "source": []
  },
  {
   "cell_type": "code",
   "execution_count": null,
   "metadata": {},
   "outputs": [],
   "source": []
  },
  {
   "cell_type": "code",
   "execution_count": null,
   "metadata": {},
   "outputs": [],
   "source": [
    "import wbgapi as wb\n",
    " \n",
    "display(wb.series.info(q='power'))"
   ]
  },
  {
   "cell_type": "code",
   "execution_count": null,
   "metadata": {},
   "outputs": [],
   "source": [
    "import wbgapi as wb\n",
    " \n",
    "display(wb.region.info())"
   ]
  },
  {
   "cell_type": "code",
   "execution_count": null,
   "metadata": {},
   "outputs": [],
   "source": [
    "import wbgapi as wb\n",
    " \n",
    "display(wb.economy.info())"
   ]
  },
  {
   "cell_type": "code",
   "execution_count": null,
   "metadata": {},
   "outputs": [],
   "source": []
  },
  {
   "cell_type": "code",
   "execution_count": null,
   "metadata": {},
   "outputs": [],
   "source": [
    "#データを取得するときにはデータの種類、国または地域、年を指定できる。以下では2019年のアメリカの人口を取得できる。\n",
    "import wbgapi as wb\n",
    " \n",
    "display(wb.data.DataFrame(['SP.POP.TOTL'], ['USA'], [2019]))"
   ]
  },
  {
   "cell_type": "code",
   "execution_count": null,
   "metadata": {},
   "outputs": [],
   "source": [
    "#日本の人口データを1960年〜2020年で取得してくる\n",
    "SP.POP.TOTL?end=2020&locations=JP&start=1960"
   ]
  },
  {
   "cell_type": "code",
   "execution_count": null,
   "metadata": {},
   "outputs": [],
   "source": [
    "#データを取得するときにはデータの種類、国または地域、年を指定できる。以下では2019年のアメリカの人口を取得できる。\n",
    "import wbgapi as wb\n",
    " \n",
    "display(wb.data.DataFrame(['SP.POP.TOTL'], ['JPN'], [2019]))"
   ]
  },
  {
   "cell_type": "code",
   "execution_count": null,
   "metadata": {},
   "outputs": [],
   "source": [
    "class User(models.Model):\n",
    "    name = models.CharField(max_length=50)"
   ]
  },
  {
   "cell_type": "code",
   "execution_count": null,
   "metadata": {},
   "outputs": [],
   "source": [
    "# 10万件のUserオブジェクトが入ったリストを作る（この段階ではDBに登録されない）\n",
    "user_objects = []\n",
    "for _ in range(100000):\n",
    "    user_objects.append(User(name=\"jobs\"))\n",
    "\n",
    "# user_objects のデータをDBに一括登録する\n",
    "User.objects.bulk_create(user_objects)"
   ]
  },
  {
   "cell_type": "code",
   "execution_count": null,
   "metadata": {},
   "outputs": [],
   "source": [
    "for _ in range(100000):"
   ]
  },
  {
   "cell_type": "code",
   "execution_count": null,
   "metadata": {},
   "outputs": [],
   "source": []
  },
  {
   "cell_type": "code",
   "execution_count": null,
   "metadata": {},
   "outputs": [],
   "source": [
    "import wbgapi as wb\n",
    "df_pop = wb.data.DataFrame(['SP.POP.TOTL'], 'JPN', mrv=50).T\n",
    "df_pop.head()"
   ]
  },
  {
   "cell_type": "code",
   "execution_count": null,
   "metadata": {},
   "outputs": [],
   "source": [
    "for item in df_pop.index:\n",
    "    print(item[2:])\n",
    "    print(df_pop.at[item,'JPN'])"
   ]
  },
  {
   "cell_type": "code",
   "execution_count": null,
   "metadata": {},
   "outputs": [],
   "source": []
  },
  {
   "cell_type": "code",
   "execution_count": null,
   "metadata": {},
   "outputs": [],
   "source": []
  },
  {
   "cell_type": "code",
   "execution_count": null,
   "metadata": {},
   "outputs": [],
   "source": []
  },
  {
   "cell_type": "code",
   "execution_count": null,
   "metadata": {},
   "outputs": [],
   "source": []
  },
  {
   "cell_type": "code",
   "execution_count": null,
   "metadata": {},
   "outputs": [],
   "source": [
    "wb.data.DataFrame(['SP.POP.TOTL'], 'JPN', mrv=50).T"
   ]
  },
  {
   "cell_type": "code",
   "execution_count": null,
   "metadata": {},
   "outputs": [],
   "source": [
    "wb.data.DataFrame(['SP.POP.TOTL'], ['JPN'], [2019])"
   ]
  },
  {
   "cell_type": "code",
   "execution_count": null,
   "metadata": {},
   "outputs": [],
   "source": [
    "help(wb)  \n",
    "help(wb.series)  \n",
    "[etc]"
   ]
  },
  {
   "cell_type": "code",
   "execution_count": null,
   "metadata": {},
   "outputs": [],
   "source": [
    "%matplotlib inline\n",
    " \n",
    "import pandas as pd\n",
    "import wbgapi as wb\n",
    "import matplotlib.pyplot as plt\n",
    "import seaborn as sns\n",
    " \n",
    "# 地域を除いた国のリストを作成\n",
    "# regionが空白になっていないidのみにする \n",
    "economy_info = wb.economy.info().items\n",
    "countries = [ei['id'] for ei in economy_info if ei['region'] != '']\n",
    " \n",
    "# 2019年の国別の以下のデータを取得する\n",
    "# SP.POP.TOTL: 人口\n",
    "# NY.GDP.PCAP.CD: ひとりあたりGDP\n",
    "# SP.DYN.LE00.IN: 出生時平均寿命\n",
    "# BN.GSR.FCTY.CD: 一次純所得\n",
    "df=wb.data.DataFrame(\n",
    "    ['SP.POP.TOTL', 'NY.GDP.PCAP.CD', 'SP.DYN.LE00.IN', 'BN.GSR.FCTY.CD'],\n",
    "    countries,\n",
    "    [2019]\n",
    ")\n",
    " \n",
    "# データがない国を省いて人口上位50にしぼる\n",
    "df = df.dropna().sort_values('SP.POP.TOTL', ascending=False).head(50)\n",
    " \n",
    "plt.figure(figsize=(18, 12))\n",
    " \n",
    "# バブルチャート作成\n",
    "# NY.GDP.PCAP.CD: Y軸\n",
    "# SP.DYN.LE00.IN: X軸\n",
    "# SP.POP.TOTL: 円の大きさ\n",
    "# BN.GSR.FCTY.CD: 色\n",
    "ax = sns.scatterplot(\n",
    "    data=df, \n",
    "    x='NY.GDP.PCAP.CD', \n",
    "    y='SP.DYN.LE00.IN', \n",
    "    size='SP.POP.TOTL', \n",
    "    c=df['BN.GSR.FCTY.CD'], \n",
    "    cmap='autumn_r', \n",
    "    alpha=0.9, \n",
    "    edgecolors='grey', \n",
    "    linewidth=1, \n",
    "    legend=False, \n",
    "    sizes=(20, 5000)\n",
    ")\n",
    " \n",
    "# 各円に国IDを表示する\n",
    "def put_label(x, y, labels, ax):\n",
    "    a = pd.concat({'x': x, 'y': y, 'label': labels}, axis=1)\n",
    "    for i, point in a.iterrows():\n",
    "        ax.text(point['x']+.02, point['y'], str(point['label']))\n",
    " \n",
    "put_label(df['NY.GDP.PCAP.CD'], df['SP.DYN.LE00.IN'], df.index.to_series(), plt.gca())\n",
    " \n",
    "plt.show()"
   ]
  },
  {
   "cell_type": "code",
   "execution_count": null,
   "metadata": {},
   "outputs": [],
   "source": []
  }
 ],
 "metadata": {
  "kernelspec": {
   "display_name": "Python 3",
   "language": "python",
   "name": "python3"
  },
  "language_info": {
   "codemirror_mode": {
    "name": "ipython",
    "version": 3
   },
   "file_extension": ".py",
   "mimetype": "text/x-python",
   "name": "python",
   "nbconvert_exporter": "python",
   "pygments_lexer": "ipython3",
   "version": "3.8.5"
  }
 },
 "nbformat": 4,
 "nbformat_minor": 4
}
